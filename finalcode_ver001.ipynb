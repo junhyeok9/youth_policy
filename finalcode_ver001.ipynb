{
 "cells": [
  {
   "cell_type": "markdown",
   "metadata": {},
   "source": [
    "# Import"
   ]
  },
  {
   "cell_type": "code",
   "execution_count": 1,
   "metadata": {},
   "outputs": [
    {
     "name": "stdout",
     "output_type": "stream",
     "text": [
      "Requirement already satisfied: tavily-python in c:\\users\\이세은\\appdata\\local\\programs\\python\\python39\\lib\\site-packages (0.5.0)\n",
      "Requirement already satisfied: requests in c:\\users\\이세은\\appdata\\local\\programs\\python\\python39\\lib\\site-packages (from tavily-python) (2.32.3)\n",
      "Requirement already satisfied: tiktoken>=0.5.1 in c:\\users\\이세은\\appdata\\local\\programs\\python\\python39\\lib\\site-packages (from tavily-python) (0.7.0)\n",
      "Requirement already satisfied: httpx in c:\\users\\이세은\\appdata\\local\\programs\\python\\python39\\lib\\site-packages (from tavily-python) (0.27.2)\n",
      "Requirement already satisfied: regex>=2022.1.18 in c:\\users\\이세은\\appdata\\local\\programs\\python\\python39\\lib\\site-packages (from tiktoken>=0.5.1->tavily-python) (2024.7.24)\n",
      "Requirement already satisfied: charset-normalizer<4,>=2 in c:\\users\\이세은\\appdata\\local\\programs\\python\\python39\\lib\\site-packages (from requests->tavily-python) (3.3.2)\n",
      "Requirement already satisfied: idna<4,>=2.5 in c:\\users\\이세은\\appdata\\local\\programs\\python\\python39\\lib\\site-packages (from requests->tavily-python) (3.7)\n",
      "Requirement already satisfied: urllib3<3,>=1.21.1 in c:\\users\\이세은\\appdata\\local\\programs\\python\\python39\\lib\\site-packages (from requests->tavily-python) (2.2.2)\n",
      "Requirement already satisfied: certifi>=2017.4.17 in c:\\users\\이세은\\appdata\\local\\programs\\python\\python39\\lib\\site-packages (from requests->tavily-python) (2024.7.4)\n",
      "Requirement already satisfied: anyio in c:\\users\\이세은\\appdata\\local\\programs\\python\\python39\\lib\\site-packages (from httpx->tavily-python) (4.6.0)\n",
      "Requirement already satisfied: httpcore==1.* in c:\\users\\이세은\\appdata\\local\\programs\\python\\python39\\lib\\site-packages (from httpx->tavily-python) (1.0.5)\n",
      "Requirement already satisfied: sniffio in c:\\users\\이세은\\appdata\\local\\programs\\python\\python39\\lib\\site-packages (from httpx->tavily-python) (1.3.1)\n",
      "Requirement already satisfied: h11<0.15,>=0.13 in c:\\users\\이세은\\appdata\\local\\programs\\python\\python39\\lib\\site-packages (from httpcore==1.*->httpx->tavily-python) (0.14.0)\n",
      "Requirement already satisfied: exceptiongroup>=1.0.2 in c:\\users\\이세은\\appdata\\roaming\\python\\python39\\site-packages (from anyio->httpx->tavily-python) (1.2.2)\n",
      "Requirement already satisfied: typing-extensions>=4.1 in c:\\users\\이세은\\appdata\\local\\programs\\python\\python39\\lib\\site-packages (from anyio->httpx->tavily-python) (4.12.2)\n"
     ]
    }
   ],
   "source": [
    "!pip3 install -qU  markdownify  langchain-upstage rank_bm25 python-dotenv\n",
    "!pip install -qU langchain-core langchain-upstage langchain-chroma langchain langgraph langchain-community\n",
    "!pip install -qU python-dotenv\n",
    "from langchain_chroma import Chroma\n",
    "from langchain_upstage import UpstageEmbeddings\n",
    "from langchain.docstore.document import Document\n",
    "!pip install tavily-python\n",
    "from langchain_community.retrievers import TavilySearchAPIRetriever"
   ]
  },
  {
   "cell_type": "markdown",
   "metadata": {},
   "source": [
    "# API"
   ]
  },
  {
   "cell_type": "code",
   "execution_count": 2,
   "metadata": {},
   "outputs": [],
   "source": [
    "import os\n",
    "import getpass\n",
    "from pprint import pprint\n",
    "import warnings\n",
    "warnings.filterwarnings(\"ignore\")\n",
    "from IPython import get_ipython\n",
    "\n",
    "upstage_api_key_env_name = \"UPSTAGE_API_KEY\"\n",
    "langchain_api_key_env_name = \"LANGCHAIN_API_KEY\"\n",
    "tavily_api_key_env_name = \"TAVILY_API_KEY\"\n",
    "\n",
    "def load_env():\n",
    "    # Running in Google Colab\n",
    "    if \"google.colab\" in str(get_ipython()):\n",
    "        from google.colab import userdata\n",
    "        upstage_api_key = userdata.get(upstage_api_key_env_name)\n",
    "        langchain_api_key = userdata.get(langchain_api_key_env_name)\n",
    "        tavily_api_key = userdata.get(tavily_api_key_env_name)\n",
    "        return (os.environ.setdefault(\"UPSTAGE_API_KEY\", upstage_api_key),\n",
    "        os.environ.setdefault(\"LANGCHAIN_API_KEY\", langchain_api_key),\n",
    "        os.environ.setdefault(\"TAVILY_API_KEY\", tavily_api_key))\n",
    "    else:\n",
    "        # Running in local Jupyter Notebook\n",
    "        from dotenv import load_dotenv\n",
    "        load_dotenv()\n",
    "        return (os.environ.get(upstage_api_key_env_name),\n",
    "        os.environ.get(langchain_api_key_env_name),\n",
    "        os.environ.get(tavily_api_key_env_name))\n",
    "\n",
    "UPSTAGE_API_KEY, LANGCHAIN_API_KEY, TAVILY_API_KEY = load_env()"
   ]
  },
  {
   "cell_type": "markdown",
   "metadata": {},
   "source": [
    "# Load DB"
   ]
  },
  {
   "cell_type": "markdown",
   "metadata": {},
   "source": [
    "안 줄인 데이터베이스 사용!"
   ]
  },
  {
   "cell_type": "code",
   "execution_count": 11,
   "metadata": {},
   "outputs": [],
   "source": [
    "persist_directory = r\"C:\\upstage\\chroma_db\"\n",
    "\n",
    "# Set up the embedding function\n",
    "embedding_function = UpstageEmbeddings(model=\"solar-embedding-1-large\")\n",
    "\n",
    "# Load the vector store from the persist directory\n",
    "db = Chroma(embedding_function=embedding_function, persist_directory=persist_directory)\n",
    "\n",
    "retriever = db.as_retriever(search_kwargs={\"k\": 3})"
   ]
  },
  {
   "cell_type": "markdown",
   "metadata": {},
   "source": [
    "# Chatbot"
   ]
  },
  {
   "cell_type": "code",
   "execution_count": 4,
   "metadata": {},
   "outputs": [],
   "source": [
    "from langchain_core.output_parsers import StrOutputParser\n",
    "from langchain.prompts import ChatPromptTemplate\n",
    "from langchain_core.prompts import ChatPromptTemplate, MessagesPlaceholder\n",
    "from langchain_upstage import ChatUpstage"
   ]
  },
  {
   "cell_type": "code",
   "execution_count": 5,
   "metadata": {},
   "outputs": [],
   "source": [
    "system_prompt = \"\"\"\n",
    "당신은 청년 정책 전문가입니다. 아래 지시 사항을 반드시 지켜서, 청년 정책에 관한 질문에 정확하고 오류 없는 답변을 생성하세요. \\\n",
    "\n",
    "<context 기반 답변 생성 방법>\n",
    "\n",
    "1. context 기반 답변 : 다음 검색된 context를 기반으로, 질문에 대한 답변을 생성하세요. \\\n",
    "2. context가 없는 경우 : 답변 생성을 위한 context가 없는 경우, \"잘 모르겠습니다.\"라고 답하세요. \\\n",
    "3. 내용의 일관성 유지 : 답변 생성 시, context의 내용을 있는 그대로 서술하고, context에 없는 내용을 절대 생성하지 마세요.\\\n",
    "4. 세부사항 일치 확인 : context의 세부적인 내용과 생성한 답변의 세부적인 내용은 동일해야 합니다. \\\n",
    "5. **금액, 날짜, 숫자 검증 : 특히, 생성한 답변에 금액, 날짜, 숫자가 포함된 경우, context와 동일한지 확인하고, 동일하지 않으면 답변을 삭제하세요.** \\\n",
    "6. 부정확한 내용 삭제 : 생성한 답변에서, **context와 다른 내용은 틀렸으니 삭제하세요. \\**\n",
    "7. 찾은 정책들이 비슷하여 하나로 특정하기 어려운 경우 사용자에게 list를 제공하거나 더 자세한 정보를 요구하세요.\\\n",
    "\n",
    "<질문 유형 기반 답변 생성 방법>\n",
    "\n",
    "1. 추천 질문 : 정책 추천을 요구하는 질문이라면, 유저의 나이, 거주지, 취업 상태 등을 바탕으로 유저가 지원 가능한 정책을 찾고, 이에 대한 근거를 설명하세요. 이때, 유저의 거주지는 정책을 주관하는 지자체에 포함되어야 합니다. 예를 들어, 유저가 경기도에 거주하는 경우, 충청도가 주관하는 정책을 추천하면 안 되지만, 전국 단위로 주관하는 정책은 추천 가능합니다. \\\n",
    "2. 후기 관련 질문 : “후기”라는 단어가 포함된 질문이라면, 로컬 context가 아닌 tavily의 외부 검색 기능을 활용하세요. \\\n",
    "3. 세부 정보 질문 : 정책의 세부적인 정보를 묻는 질문이라면, 해당 정책명이 정확하게 포함된 context만을 검색해 답변을 생성하세요. \\\n",
    "\n",
    "<기타> \n",
    "\n",
    "1. 간결하고 이해하기 쉽게 답변하세요. \\\n",
    "2. 질문에 대한 집중 : 물어본 질문에만 답변하세요. \\\n",
    "3. 명확하지 않은 질문은 다시 : 질문을 명확하게 이해하지 못한 경우, “질문을 다시 구체적으로 해주세요”라고 답하세요. \\\n",
    "4. 질문이 여러 개의 정보를 요구하는 경우, 하위 질문으로 나누어 단계별로 생각하고 답변을 생성하세요.\\\n",
    "\n",
    "context: {context}\n",
    "\"\"\""
   ]
  },
  {
   "cell_type": "code",
   "execution_count": 12,
   "metadata": {},
   "outputs": [],
   "source": [
    "''' <지시 + context + 대화 기록 + 질문> 템플릿. 이걸 llm에 입력으로 넣음 '''\n",
    "prompt = ChatPromptTemplate.from_messages(\n",
    "    [\n",
    "        (\"system\", system_prompt),\n",
    "        MessagesPlaceholder(variable_name=\"chat_history\"),\n",
    "        (\"human\", \"{question}\"),  # 유저 질문\n",
    "    ]\n",
    ")\n",
    "\n",
    "llm = ChatUpstage(max_tokens=200, temperature=0.2, top_p=0.1)\n",
    "chain = prompt | llm | StrOutputParser()"
   ]
  },
  {
   "cell_type": "code",
   "execution_count": 13,
   "metadata": {},
   "outputs": [],
   "source": [
    "\"\"\"\n",
    "Represents the state of our graph.\n",
    "Attributes:\n",
    "    context: retrieved context\n",
    "    question: question asked by the user\n",
    "    answer: generated answer to the question\n",
    "    groundedness: groundedness of the assistant's response\n",
    "    chat_history: list of chat messages\n",
    "\"\"\"\n",
    "from typing import TypedDict\n",
    "from typing import List\n",
    "class RagState(TypedDict):\n",
    "    context: str\n",
    "    question: str\n",
    "    answer: str\n",
    "    groundedness: str\n",
    "    chat_history: List[str]"
   ]
  },
  {
   "cell_type": "code",
   "execution_count": 14,
   "metadata": {},
   "outputs": [],
   "source": [
    "''' prepare RAG pipeline '''\n",
    "\n",
    "''' 검색된 문서들의 내용을 하나의 문자열로 포맷 '''\n",
    "def format_documents(docs: List[Document]) -> str:\n",
    "    return \"\\n\".join([doc.page_content for doc in docs if hasattr(doc, 'page_content')])\n",
    "\n",
    "\n",
    "''' 검색 함수 '''\n",
    "def retrieve(state: RagState) -> RagState:\n",
    "    # retriever에서 질문과 관련된 문서들을 검색\n",
    "    docs = retriever.invoke(state[\"question\"])\n",
    "    # 검색된 문서들의 내용을 하나의 문자열로 포맷 > context 생성\n",
    "    context = format_documents(docs)\n",
    "    # 생성된 context를 Ragstate의 context 변수에 저장\n",
    "    return RagState(context = context)\n",
    "\n",
    "\n",
    "''' 모델 답변 생성 함수 '''\n",
    "def model_answer(state: RagState) -> RagState:\n",
    "    # chain 실행 > 모델이 답변을 생성\n",
    "    response = chain.invoke(state)\n",
    "    # 생성된 response를 Ragstate의 answer 변수에 저장\n",
    "    return RagState(answer = response)\n",
    "\n",
    "\n",
    "''' 외부 검색 함수 '''\n",
    "def tavily_search(state: RagState) -> RagState:\n",
    "    tavily = TavilySearchAPIRetriever(k=3, include_raw_content=True, search_depth='advanced')\n",
    "    print('Seaching using Tavily...')\n",
    "    docs_external = tavily.invoke(state[\"question\"])\n",
    "    # tavily 검색 결과가 있으면\n",
    "    if docs_external:\n",
    "        context_tavily = format_documents(docs_external)\n",
    "        # 외부 검색된 context를 Ragstate의 context 변수에 저장\n",
    "        return RagState(context = context_tavily)\n",
    "    else:\n",
    "        print('No results found from Tavily.')\n",
    "        return RagState(context = \"검색 결과가 없습니다.\")\n",
    "\n",
    "\n",
    "from langchain_upstage import GroundednessCheck\n",
    "gc = GroundednessCheck()\n",
    "\n",
    "''' context와 answer를 비교하여 답변의 근거성 평가 '''\n",
    "def groundedness_check(state: RagState) -> RagState:\n",
    "    response = gc.run({\"context\": state[\"context\"], \"answer\": state[\"answer\"]})\n",
    "    # 생성된 response를 Ragstate의 groundedness 변수에 저장\n",
    "    return RagState(groundedness = response)\n",
    "\n",
    "''' RagState의 groundedness 변수 값 출력 '''\n",
    "def groundedness_condition(state: RagState) -> RagState:\n",
    "    return state[\"groundedness\"]"
   ]
  },
  {
   "cell_type": "code",
   "execution_count": 15,
   "metadata": {},
   "outputs": [],
   "source": [
    "''' Build Graph '''\n",
    "from langgraph.graph import END, StateGraph\n",
    "\n",
    "workflow = StateGraph(RagState)\n",
    "workflow.add_node(\"retrieve\", retrieve)  \n",
    "workflow.add_node(\"retrieve_again\", retrieve) \n",
    "\n",
    "workflow.add_node(\"model\", model_answer)  \n",
    "workflow.add_node(\"model_again\", model_answer)\n",
    "workflow.add_node(\"model_tavily\", model_answer)\n",
    "\n",
    "workflow.add_node(\"groundedness_check_1\", groundedness_check) \n",
    "workflow.add_node(\"groundedness_check_2\", groundedness_check) \n",
    "\n",
    "workflow.add_node(\"tavily_search\", tavily_search)  \n",
    "\n",
    "\n",
    "# 상태간의 전이를 정의\n",
    "workflow.add_edge(\"retrieve\", \"model\")\n",
    "workflow.add_edge(\"model\", \"groundedness_check_1\")\n",
    "\n",
    "workflow.add_edge(\"retrieve_again\", \"model_again\")\n",
    "workflow.add_edge(\"model_again\", \"groundedness_check_2\")\n",
    "\n",
    "\n",
    "# 근거성 평가 결과에 따라 다른 경로로 전이\n",
    "workflow.add_conditional_edges(\n",
    "    \"groundedness_check_1\",\n",
    "    groundedness_condition,\n",
    "    {\n",
    "        \"grounded\": END,  # 근거 있음 > 워크플로우 종료\n",
    "        \"notGrounded\": \"retrieve_again\",  # 근거 부족 > 다시 retrieve 단계로 전이\n",
    "        \"notSure\": \"retrieve_again\",  # 불확실 > tavily_search 단계로 전이\n",
    "    },\n",
    ")\n",
    "\n",
    "# 두 번째 근거성 평가 결과에 따라 tavily_search로 전이\n",
    "workflow.add_conditional_edges(\n",
    "    \"groundedness_check_2\",  # 두 번째 근거성 체크 후\n",
    "    groundedness_condition,\n",
    "    {\n",
    "        \"grounded\": END,  # 근거 있음 > 워크플로우 종료\n",
    "        \"notGrounded\": \"tavily_search\",  # 두 번째도 근거 부족 > tavily_search로 전이\n",
    "        \"notSure\": \"tavily_search\",  # 두 번째도 불확실 > tavily_search로 전이\n",
    "    },\n",
    ")\n",
    "\n",
    "# tavily_search 후에는 다시 모델로 이동\n",
    "workflow.add_edge(\"tavily_search\", \"model_tavily\")\n",
    "workflow.add_edge(\"model_tavily\", \"groundedness_check_2\")\n",
    "\n",
    "# 워크플로우의 시작 지점을 검색 단계로 설정\n",
    "workflow.set_entry_point(\"retrieve\")\n",
    "\n",
    "# 정의된 워크플로우를 컴파일하여 실행 가능한 상태로 만든다\n",
    "app = workflow.compile()"
   ]
  },
  {
   "cell_type": "code",
   "execution_count": 16,
   "metadata": {},
   "outputs": [
    {
     "name": "stdout",
     "output_type": "stream",
     "text": [
      "question:  자립준비청년(청년 유형) 전세임대 정책의 신청기간은?\n",
      "Node 'retrieve':{'context': '2024년 자립준비청년(청년 유형) 전세임대 입주자 수시모집• 자립준비청년(청년 유형) 전세임대란?- 입주대상자로 선정된 자립준비청년이 거주할 주택을 물색하면 LH에서 주택소유자와 전세계약을체결한 후 재임대하는 제도입니다.- 자립준비청년을 위한 전세임대제도는 청년 전세임대와 소년소녀 전세임대 두가지가 있으며, 본 공고는청년 전세임대 1순위에 해당하는 자립준비청년을 위한 공고입니다. (소년소녀가정용 전세임대 지원을위한 자립준비청년의 입주신청은 주민등록지 행정복지센터로 하시면 됩니다.)- 본 입주자 모집의 신청내용 수정은 신청일 24:00(마감일의 경우 18:00)까지 가능하고, 이후변경내용에 대해서는 관할 지역본부로 별도문의 바랍니다.1. 사업대상지역 : 전국2. 신청방법■ 청년 전세임대 청약은 인터넷으로만 신청 가능LH청약플러스(https://apply.lh.or.kr)→임대주택(청약신청)<유의사항>· 인터넷 청약시스템은 인증서(공동인증서, 금융인증서 또는 네이버 인증서 등)를 소지한 경우에 한하여 신청가능하며, LH 홈페이지에서 제공하는 “청약신청 연습하기”를 통하여 사전에 미리 청약 절차를 연습하여청약하시기 바랍니다.3. 신청자격■신청자격 : 신청일 현재 본인이 무주택자이면서 「아동복지법」 제16조 및 제16조의3에 따라 가정위탁 보호조치가종료되거나 아동복지시설에서 퇴소한지 5년 이내인 사람(보호조치를 연장한 자, 보호조치 종료예정자, 시설 퇴소예정자 포함, 혼인중인 자는 제외)4. 신청절차, 기간 및 방법■ 신청절차■ 신청기간 : 2024. 01. 02.(화) 10:00 ~ 2024. 12. 31.(화) 18:00■ 신청방법 : 제출서류 스캔 후 첨부하여 LH 청약센터(https://apply.lh.or.kr)에서 신청- 제한된 첨부파일의 용량 · 파일형식 확인, 스캔 등 오류로 인해 서류 식별이 불가하지 않도록 주의(파일용량 최대 1,000KB 미만 / 파일형식 tif, tiff, jpg, jpeg, gif, hwp, pdf, zip 확장자 업로드 가능\\n예비자포함) ▷ 전세주택 물색(입주대상자) ▷ 전세주택 물색(입주대상자) ▷입주\",\\n  \"제출서류\": \"주민등록표등본, 가족관계증명서, 개인정보 이용·제공 및 제3자 제공 동의서, 자립준비청년 증명서 \\\\n※ 모든 발급서류는 신청일 기준 2주일 이내 발급분에 한함\",\\n  \"심사발표\": \"입주대상자 선정안내 : 신청일로부터 최소 4주 소요\",\\n  \"신청 사이트\": \"https://apply.lh.or.kr/lhapply/apply/wt/wrtanc/selectWrtancInfo.do?panId=2015122300015277&ccrCnntSysDsCd=03&uppAisTpCd=13&aisTpCd=17&mi=1026\",\\n  \"참고 사이트1\": \"https://apply.lh.or.kr/lhapply/apply/wt/wrtanc/selectWrtancInfo.do?panId=2015122300015277&ccrCnntSysDsCd=03&uppAisTpCd=13&aisTpCd=17&mi=1026\",\\n  \"참고 사이트2\": NaN,\\n  \"주관부처\": \"한국토지주택공사(LH)\",\\n  \"주관부처 담당자\": \"-\",\\n  \"주관부처 담당자 연락처\": \"-\",\\n  \"운영기관\": \"한국토지주택공사(LH)\",\\n  \"운영기관 담당자\": \"한국토지주택공사(LH)\",\\n  \"운영기관 담당자 연락처\": NaN,\\n  \"기타사항\": \"전세임대 통합콜센터: 1670-0002\",\\n  \"정책분야 코드\": 23020\\n}\\n재학생 등 모집대상이 달라질 수 있으므로 사전 문의 필요\",\\n  \"연령\": \"만 19세 ~ 39세\",\\n  \"전공요건\": \"제한없음\",\\n  \"취업상태\": \"제한없음\",\\n  \"특화분야\": \"자립준비청년\",\\n  \"학력요건\": \"제한없음\",\\n  \"거주지 및 소득 조건\": \"신청일 현재 무주택자\",\\n  \"추가 단서사항\": \"□ 지원대상\\\\nㅇ 신청일 현재 본인이 무주택자이면서 「아동복지법」 제16조 및 제16조의3에 따라 가정위탁 보호조치가 종료되거나 아동복지시설에서 퇴소한지 5년 이내인 사람\\\\n※ 보호조치를 연장한 자, 보호조치 종료 예정자, 시설 퇴소예정자 포함, 혼인중인 자는 제외\\\\n\\\\n□ 지원불가주택\\\\nㅇ 입주대상자 또는 배우자의 직계 존·비속 소유의 주택 및 법인 소유의 공공임대주택\\\\nㅇ 등기부등본상 압류⋅가압류⋅가등기⋅신탁등기⋅임차권등기 및 소유권행사에 제한이 되는 가처분⋅ 예고등기 등이 있는 경우(권리관계 말소 후 신청 가능) \\\\nㅇ 토지 소유자와 건물 소유자가 다른 주택(단, 각각의 소유자 모두와 전세계약 체결하는 경우 또는 토지지분 일부를 소유하고 있는 건물 소유주와 전세계약 체결하는 경우는 가능) \\\\nㅇ 서울보증보험(주)의 전세임대주택신용보험 또는 전세금보장신용보험의 보험사고자로서 서울보증보험(주)에 대한 동 보험사고 관련 채무를 완제하지 아니한 임대인 소유의 주택\\\\nㅇ 서울보증보험(주)의 전세임대주택신용보험 가입 불가한 주택\\\\nㅇ 기타 우리 공사가 재난·재해 등의 우려로 방침으로 정하여 공급을 제한하는 주택(소급적용 가능)\",\\n  \"참여 제한 대상\": \"-\",\\n  \"신청절차\": \"□ 신청방법: 청년 전세임대 청약은 인터넷으로만 신청 가능\\\\nㅇ LH청약플러스(https://apply.lh.or.kr)→임대주택(청약신청)\\\\n\\\\n□ 신청절차: 입주신청(LH청약센터) ▷대상자발표(예비자포함) ▷ 전세주택 물색(입주대상자) ▷ 전세주택 물색(입주대상자) ▷입주\",\\n  \"제출서류\": \"주민등록표등본, 가족관계증명서, 개인정보 이용·제공 및 제3자 제공 동의서,'}\n",
      "\n",
      "---\n",
      "\n",
      "Node 'model':{'answer': '자립준비청년(청년 유형) 전세임대 정책의 신청기간은 2024년 1월 2일(화) 10:00부터 2024년 12월 31일(화) 18:00까지입니다.'}\n",
      "\n",
      "---\n",
      "\n",
      "Node 'groundedness_check_1':{'groundedness': 'grounded'}\n",
      "\n",
      "---\n",
      "\n",
      "question: 그 정책의 신청자격은?\n",
      "Node 'retrieve':{'context': 'Additional Information:\\n{\\n  \"정책 ID\": \"R2024042522304\",\\n  \"기관 코드\": 3002001005,\\n  \"기관 및 지자체 구분\": \"지자체\",\\n  \"정책소개\": \"주거 및 자립 기반이 취약한 청년계층의 성장지원을 위해 서울주택도시공사 수요자 맞춤형 공공임대주택을 1인 (예비)창조기업인에게 공급 지원\",\\n  \"지원내용\": \"창업공간 제공\",\\n  \"지원규모\": \"2세대\",\\n  \"사업운영기간\": \"2024.01.01~2024.12.31.\",\\n  \"사업신청기간 반복구분 코드\": 2004,\\n  \"사업신청기간\": \"2024-04-15~2024-04-18\\\\n2024. 4. 15.(월) ~ 4. 18.(목) 18:00\",\\n  \"연령\": \"만 19세 ~ 39세\",\\n  \"전공요건\": \"제한없음\",\\n  \"취업상태\": \"제한없음\",\\n  \"특화분야\": \"제한없음\",\\n  \"학력요건\": \"제한없음\",\\n  \"거주지 및 소득 조건\": \"1. 서울시 거주 무주택 1인 청년(예비)창조기업인\\\\n  * 1인(예비)창조기업인(1984. 4. 9.~2005. 4. 8.출생자)청년\\\\n2. 전년도 도시근로자 가구당 월평균 소득의 70% 이하인 자\\\\n3. 영구임대주택 자산기준을 초과하지 않는 자\",\\n  \"추가 단서사항\": NaN,\\n  \"참여 제한 대상\": NaN,\\n  \"신청절차\": \"신청 홈페이지 접속하여 신청서류 양식 작성 및 증빙서류 구비\",\\n  \"제출서류\": \"기본 서류\\\\n  ① [별지1]입주신청서 1부                  \\\\n  ② [별지2]사업계획서 1부\\\\n  ③ [별지3]쾌적한 주거환경 유지 이행각서 1부 \\\\n ④ [별지4]신용정보 제공동의서 1부\\\\n ⑤ [별지5]금융정보 제공동의서 1부 (별지 5번은 꼭 자필(손글씨) 작성)          \\\\n ⑥ [별지6]행정정보 공동이용 사전동의서 1부  \\\\n ⑦ 가족관계증명서 1부(주민등록번호 전부 표시)  \\\\n\\\\n추가 서류(1인 창조기업)\\\\n ① 사업자등록증 1부\\\\n ② 국민연금사업장가입자명부 1부\\n인턴 □ 채용형 인턴 □ 일용직 근로근로기간20 . . . ～ 20 . . .근로 계약기간□ 3개월 미만 □ 3개월 이상 □ 기한의 정함이 없는 경우주 근로시간□ 1주 15시간 미만 □ 1주 15시간 이상4대 보험 가입여부□ 가입 □ 미가입신청자가 LH 청년 매입임대주택을 지원받기 위한 신청자 근로형태에 대하여상기 사항이 거짓이 아님을 확인합니다.신 청 인 : (인)확인자(사용주) : (인)2024년 월 일한국토지주택공사 서울지역본부장 귀하\\n\\nAdditional Information:\\n{\\n  \"정책 ID\": \"R2024041221723\",\\n  \"기관 코드\": 3002001,\\n  \"기관 및 지자체 구분\": \"지자체\",\\n  \"정책소개\": \"서울시에서 생활하는 저소득층, 저소득 청년층 및 신혼부부의 주거안정을 위해 중앙정부, 서울시, 서울주택도시공사의 재정과 주택도시기금을 지원받아 서울주택도시공사에서 주택을 매입하여 현 생활권에서 최장 20년까지 거주할 수 있도록 주변시세보다 저렴하게 공급\",\\n  \"지원내용\": \"□ 공급주택 유형 : 도시형생활주택\\\\n* 재공급 주택 중 광진구 구의에스하임1(구의동638-5,6)의 신청가능 성별이 \\'여성\\'으로 수정되었음을 양해바랍니다.\\\\n* 주택목록 중 관악구 하임(신림동624-34)의 신청가능 성별이 \\'여성\\'으로 수정되었음을 양해바랍니다.\",\\n  \"지원규모\": \"□ 공급호수 : 총 670호 (신규공급 403호, 재공급 267호)\",\\n  \"사업운영기간\": \"2024.01~2024.12\",\\n  \"사업신청기간 반복구분 코드\": 2004,\\n  \"사업신청기간\": \"2024-07-08~2024-07-12\\\\n분기별 모집\",\\n  \"연령\": \"만 19세 ~ 39세\",\\n  \"전공요건\": \"제한없음\",\\n  \"취업상태\": \"제한없음\",\\n  \"특화분야\": \"제한없음\",\\n  \"학력요건\": \"제한없음\",\\n  \"거주지 및 소득 조건\": \"○ 모집공고일(2024.06.28.) 현재 무주택자(본인)이면서 미혼(현재 혼인상태가 아님)인 대학생, 취업준비생, 청년으\\nAdditional Information:\\n{\\n  \"정책 ID\": \"R2024031920824\",\\n  \"기관 코드\": 3002001,\\n  \"기관 및 지자체 구분\": \"지자체\",\\n  \"정책소개\": \"대중교통이 편리한 역세권 및 간선도로변에 청년, 신혼부부의 주거안정 및 주거난 해소를 위해 시세대비 저렴한 공공임대와 민간임대 주택을 제공\",\\n  \"지원내용\": \"- 임차보증금의 30% 무이자 지원(청년 : 최대 4,500만원, 신혼부부 : 최대 6,000만원)\\\\n * 임차보증금이 1억원 이하인 경우 50% 무이자 지원(청년 및 신혼부부 : 최대 4,500만원)\",\\n  \"지원규모\": NaN,\\n  \"사업운영기간\": NaN,\\n  \"사업신청기간 반복구분 코드\": 2001,\\n  \"사업신청기간\": \"\\\\n신규 입주(예정)일 3주 전까지 방문신청(평일 10:00 ~15:00 점심시간 없이 운영)\",\\n  \"연령\": \"만 19세 ~ 39세\",\\n  \"전공요건\": \"제한없음\",\\n  \"취업상태\": \"제한없음\",\\n  \"특화분야\": \"제한없음\",\\n  \"학력요건\": \"제한없음\",\\n  \"거주지 및 소득 조건\": \"○ 소득기준(2024년 3월 1일 이후 접수자 기준)\\\\n   - 청년 : 신청자 본인(1인 가구) 소득 기준 전년도 도시근로자 가구원수별 가구당 월평균 100%이하(3,482,296원)\\\\n   - 신혼부부 : 신호부부 및 자녀 합산 소득 기준 전년도 도시근로자 가구원수별 가구당 월평균 소득 120%이하(2인가구:6,498,854원 / 3인가구:8.638.379원)\\\\n○ 자산기준\\\\n   - 청년 : 신청자 본인 자산 기준 2억 7,300만원 이하\\\\n   - 신혼부부 : 신혼부부 및 자녀 합산 자산 기준 3억 4,500만원 이하\",\\n  \"추가 단서사항\": NaN,\\n  \"참여 제한 대상\": NaN,\\n  \"신청절차\": \"○ 임대차 계약 후 청년안심주택 종합지원센터 방문신청(방문신청 시 지원약정서 작성 및 구비서류 제출)\\\\n  - 신청기간 : 신규 입주(예정)일 3주 전까지 방문 신청(평일'}\n",
      "\n",
      "---\n",
      "\n",
      "Node 'model':{'answer': '자립준비청년(청년 유형) 전세임대 정책의 신청자격은 다음과 같습니다.\\n\\n1. 신청자 본인이 무주택자(본인)이면서 만 19세 이상 만 39세 이하인 자\\n2. 신청자 본인이 「아동복지법」 제16조에 따라 아동복지시설(가정위탁 포함)에서 퇴소하였거나 퇴소예정인 자\\n3. 신청자 본인이 「대안교육법」 제2조제1호에 따른 대안교육기관에 재학 중인 자\\n4. 신청자 본인이 「대안교육법」 제2조제2호에 따른 대안교육기관을 졸업한 자\\n5. 신청자 본인이 「대안교육법」 제2조제3호에 따른 대안교육기관에 재학 중인 자\\n6. 신청자 본인이 「대안교육법」 제2조제4호에 따른 대안교육기관을 졸업한 자\\n7. 신청자 본인이 '}\n",
      "\n",
      "---\n",
      "\n",
      "Node 'groundedness_check_1':{'groundedness': 'notGrounded'}\n",
      "\n",
      "---\n",
      "\n",
      "Node 'retrieve_again':{'context': 'Additional Information:\\n{\\n  \"정책 ID\": \"R2024042522304\",\\n  \"기관 코드\": 3002001005,\\n  \"기관 및 지자체 구분\": \"지자체\",\\n  \"정책소개\": \"주거 및 자립 기반이 취약한 청년계층의 성장지원을 위해 서울주택도시공사 수요자 맞춤형 공공임대주택을 1인 (예비)창조기업인에게 공급 지원\",\\n  \"지원내용\": \"창업공간 제공\",\\n  \"지원규모\": \"2세대\",\\n  \"사업운영기간\": \"2024.01.01~2024.12.31.\",\\n  \"사업신청기간 반복구분 코드\": 2004,\\n  \"사업신청기간\": \"2024-04-15~2024-04-18\\\\n2024. 4. 15.(월) ~ 4. 18.(목) 18:00\",\\n  \"연령\": \"만 19세 ~ 39세\",\\n  \"전공요건\": \"제한없음\",\\n  \"취업상태\": \"제한없음\",\\n  \"특화분야\": \"제한없음\",\\n  \"학력요건\": \"제한없음\",\\n  \"거주지 및 소득 조건\": \"1. 서울시 거주 무주택 1인 청년(예비)창조기업인\\\\n  * 1인(예비)창조기업인(1984. 4. 9.~2005. 4. 8.출생자)청년\\\\n2. 전년도 도시근로자 가구당 월평균 소득의 70% 이하인 자\\\\n3. 영구임대주택 자산기준을 초과하지 않는 자\",\\n  \"추가 단서사항\": NaN,\\n  \"참여 제한 대상\": NaN,\\n  \"신청절차\": \"신청 홈페이지 접속하여 신청서류 양식 작성 및 증빙서류 구비\",\\n  \"제출서류\": \"기본 서류\\\\n  ① [별지1]입주신청서 1부                  \\\\n  ② [별지2]사업계획서 1부\\\\n  ③ [별지3]쾌적한 주거환경 유지 이행각서 1부 \\\\n ④ [별지4]신용정보 제공동의서 1부\\\\n ⑤ [별지5]금융정보 제공동의서 1부 (별지 5번은 꼭 자필(손글씨) 작성)          \\\\n ⑥ [별지6]행정정보 공동이용 사전동의서 1부  \\\\n ⑦ 가족관계증명서 1부(주민등록번호 전부 표시)  \\\\n\\\\n추가 서류(1인 창조기업)\\\\n ① 사업자등록증 1부\\\\n ② 국민연금사업장가입자명부 1부\\n인턴 □ 채용형 인턴 □ 일용직 근로근로기간20 . . . ～ 20 . . .근로 계약기간□ 3개월 미만 □ 3개월 이상 □ 기한의 정함이 없는 경우주 근로시간□ 1주 15시간 미만 □ 1주 15시간 이상4대 보험 가입여부□ 가입 □ 미가입신청자가 LH 청년 매입임대주택을 지원받기 위한 신청자 근로형태에 대하여상기 사항이 거짓이 아님을 확인합니다.신 청 인 : (인)확인자(사용주) : (인)2024년 월 일한국토지주택공사 서울지역본부장 귀하\\n\\nAdditional Information:\\n{\\n  \"정책 ID\": \"R2024041221723\",\\n  \"기관 코드\": 3002001,\\n  \"기관 및 지자체 구분\": \"지자체\",\\n  \"정책소개\": \"서울시에서 생활하는 저소득층, 저소득 청년층 및 신혼부부의 주거안정을 위해 중앙정부, 서울시, 서울주택도시공사의 재정과 주택도시기금을 지원받아 서울주택도시공사에서 주택을 매입하여 현 생활권에서 최장 20년까지 거주할 수 있도록 주변시세보다 저렴하게 공급\",\\n  \"지원내용\": \"□ 공급주택 유형 : 도시형생활주택\\\\n* 재공급 주택 중 광진구 구의에스하임1(구의동638-5,6)의 신청가능 성별이 \\'여성\\'으로 수정되었음을 양해바랍니다.\\\\n* 주택목록 중 관악구 하임(신림동624-34)의 신청가능 성별이 \\'여성\\'으로 수정되었음을 양해바랍니다.\",\\n  \"지원규모\": \"□ 공급호수 : 총 670호 (신규공급 403호, 재공급 267호)\",\\n  \"사업운영기간\": \"2024.01~2024.12\",\\n  \"사업신청기간 반복구분 코드\": 2004,\\n  \"사업신청기간\": \"2024-07-08~2024-07-12\\\\n분기별 모집\",\\n  \"연령\": \"만 19세 ~ 39세\",\\n  \"전공요건\": \"제한없음\",\\n  \"취업상태\": \"제한없음\",\\n  \"특화분야\": \"제한없음\",\\n  \"학력요건\": \"제한없음\",\\n  \"거주지 및 소득 조건\": \"○ 모집공고일(2024.06.28.) 현재 무주택자(본인)이면서 미혼(현재 혼인상태가 아님)인 대학생, 취업준비생, 청년으\\nAdditional Information:\\n{\\n  \"정책 ID\": \"R2024031920824\",\\n  \"기관 코드\": 3002001,\\n  \"기관 및 지자체 구분\": \"지자체\",\\n  \"정책소개\": \"대중교통이 편리한 역세권 및 간선도로변에 청년, 신혼부부의 주거안정 및 주거난 해소를 위해 시세대비 저렴한 공공임대와 민간임대 주택을 제공\",\\n  \"지원내용\": \"- 임차보증금의 30% 무이자 지원(청년 : 최대 4,500만원, 신혼부부 : 최대 6,000만원)\\\\n * 임차보증금이 1억원 이하인 경우 50% 무이자 지원(청년 및 신혼부부 : 최대 4,500만원)\",\\n  \"지원규모\": NaN,\\n  \"사업운영기간\": NaN,\\n  \"사업신청기간 반복구분 코드\": 2001,\\n  \"사업신청기간\": \"\\\\n신규 입주(예정)일 3주 전까지 방문신청(평일 10:00 ~15:00 점심시간 없이 운영)\",\\n  \"연령\": \"만 19세 ~ 39세\",\\n  \"전공요건\": \"제한없음\",\\n  \"취업상태\": \"제한없음\",\\n  \"특화분야\": \"제한없음\",\\n  \"학력요건\": \"제한없음\",\\n  \"거주지 및 소득 조건\": \"○ 소득기준(2024년 3월 1일 이후 접수자 기준)\\\\n   - 청년 : 신청자 본인(1인 가구) 소득 기준 전년도 도시근로자 가구원수별 가구당 월평균 100%이하(3,482,296원)\\\\n   - 신혼부부 : 신호부부 및 자녀 합산 소득 기준 전년도 도시근로자 가구원수별 가구당 월평균 소득 120%이하(2인가구:6,498,854원 / 3인가구:8.638.379원)\\\\n○ 자산기준\\\\n   - 청년 : 신청자 본인 자산 기준 2억 7,300만원 이하\\\\n   - 신혼부부 : 신혼부부 및 자녀 합산 자산 기준 3억 4,500만원 이하\",\\n  \"추가 단서사항\": NaN,\\n  \"참여 제한 대상\": NaN,\\n  \"신청절차\": \"○ 임대차 계약 후 청년안심주택 종합지원센터 방문신청(방문신청 시 지원약정서 작성 및 구비서류 제출)\\\\n  - 신청기간 : 신규 입주(예정)일 3주 전까지 방문 신청(평일'}\n",
      "\n",
      "---\n",
      "\n",
      "Node 'model_again':{'answer': '자립준비청년(청년 유형) 전세임대 정책의 신청자격은 다음과 같습니다.\\n\\n1. 신청자 본인이 무주택자(본인)이면서 만 19세 이상 만 39세 이하인 자\\n2. 신청자 본인이 「아동복지법」 제16조에 따라 아동복지시설(가정위탁 포함)에서 퇴소하였거나 퇴소예정인 자\\n3. 신청자 본인이 「대안교육법」 제2조제1호에 따른 대안교육기관에 재학 중인 자\\n4. 신청자 본인이 「대안교육법」 제2조제2호에 따른 대안교육기관을 졸업한 자\\n5. 신청자 본인이 「대안교육법」 제2조제3호에 따른 대안교육기관에 재학 중인 자\\n6. 신청자 본인이 「대안교육법」 제2조제4호에 따른 대안교육기관을 졸업한 자\\n7. 신청자 본인이 '}\n",
      "\n",
      "---\n",
      "\n",
      "Node 'groundedness_check_2':{'groundedness': 'grounded'}\n",
      "\n",
      "---\n",
      "\n",
      "question: q\n",
      "Node 'retrieve':{'context': '절차\": \"□ 신청 방법 : 구글폼 신청(링크 또는 QR 코드)\\\\n*신청이 어려우신 분은 전화 및 내방하시면 안내해 드리겠습니다.\",\\n  \"제출서류\": \"-\",\\n  \"심사발표\": \"-\",\\n  \"신청 사이트\": \"https://forms.gle/EYe1RNKNbJHkA45P7\",\\n  \"참고 사이트1\": \"https://yangsan.familynet.or.kr/center/lay1/program/S295T322C449/receipt/view.do?seq=175130\",\\n  \"참고 사이트2\": NaN,\\n  \"주관부처\": \"양산시가족센터 1인가구 사업 담당자 (055-382-0988, 070-4354-4257)\",\\n  \"주관부처 담당자\": \"-\",\\n  \"주관부처 담당자 연락처\": \"-\",\\n  \"운영기관\": \"주관기관과 동일\",\\n  \"운영기관 담당자\": \"-\",\\n  \"운영기관 담당자 연락처\": \"-\",\\n  \"기타사항\": \"□ 유의사항 ★★반드시 읽어주세요★★\\\\n1. 해당 프로그램은 선착순으로 접수되며, 정원 이후는 대기자로 선정될 수 있음.\\\\n2. 당일 신청 취소 및 불참의 경우, 3개월간 양산시가족센터 프로그램 참여자 제한됨으로 유의바랍니다.\\\\n3. 구글폼 신청 후 참여자 선정이 되시면 홈페이지에도 가입해주셔야 합니다.\",\\n  \"정책분야 코드\": 23040\\n}\\nAdditional Information:\\n{\\n  \"정책 ID\": \"R2024050822563\",\\n  \"기관 코드\": 3002015010,\\n  \"기관 및 지자체 구분\": \"지자체\",\\n  \"정책소개\": \"관심분야가 비슷한 1인가구들이 모여 동아리를 결성하여 활동하는 시간\",\\n  \"지원내용\": \"□ 활동내용: 관심분야가 비슷한 1인가구의 동아리 모임 활동\\\\n\\\\n□ 동아리 주제: 공연·문화/영화/우쿨렐레/산책·걷기/인형뜨기/싱잉볼/연극(택1)\\\\n* 남성, 여성만으로 구성된 동아리 개설도 가능합니다.\\\\n\\\\n□ 지원내용\\\\n① 동아리 활동 시 장소 제공 및 활동비 지원(최대 10,000원)\\\\n② 동아리 활동 지원비는 월 1회만 지원 가능(동아리 활동은 1회 이상 가능)\\\\n\\\\n□ 활동과정\\\\n신청 ▶ 선정(개별연락) ▶ 사전모임(동아리별 오픈채팅방 모임)▶ OT(6/5(수)) ▶ 활동시작(6월~9월) ▶ 보고서 제출 ▶ 활동비 지급 ▶ 동아리 대표 회의(7월 예정) ▶ 활동 공유회(9월 예정)\\\\n* OT, 활동공유회 필수 참석\",\\n  \"지원규모\": \"20명\",\\n  \"사업운영기간\": \"-\",\\n  \"사업신청기간 반복구분 코드\": 2004,\\n  \"사업신청기간\": \"2024-05-07~2024-05-24\\\\n2024. 5. 7 10:00 ~ 2024. 5. 24 17:00\",\\n  \"연령\": \"만 20세 이상\",\\n  \"전공요건\": \"-\",\\n  \"취업상태\": \"-\",\\n  \"특화분야\": \"-\",\\n  \"학력요건\": \"-\",\\n  \"거주지 및 소득 조건\": \"□ 모집대상: 양산시 거주 및 재학, 재직중인 1인가구 20명\\\\n* 동아리별 최소 3명 최대 5명씩 총 4개 동아리\\\\n* 기존 동아리의 경우 신규 회원 1명 이상 반드시 가입 필수\",\\n  \"추가 단서사항\": \"-\",\\n  \"참여 제한 대상\": \"-\",\\n  \"신청절차\": \"□ 신청 방법 : 구글폼 신청(링크 또는 QR 코드)\\\\n*신청이 어려우신 분은 전화 및 내방하시면 안내해 드리겠습니다.\",\\n  \"제출서류\": \"-\",\\n  \"심사발표\":\\n문 신청이나 우편 신청 불가※ 콜센터는 평일 업무시간(9~12시 / 13~18시)에 이용 가능□ 신청 시 필수 입력 정보(주민등록 또는 외국인등록대장 기준)ㅇ 이름, 성별, 주소, 연락처(휴대전화, 이메일)ㅇ 주민등록번호(외국인등록번호)※ 입력 정보가 실제와 다를 경우 선정이 취소될 수 있음□ 동의서 작성(필수) : 개인정보 수집·이용, 고유식별정보 처리, 제3자제공, 행정정보공동이용 동의ㅇ 수집정보 : 성명, 주민등록번호, 휴대전화(연락처), 이메일, 성별,주소, 건강보험 관련 정보ㅇ 활 용 : 행정정보 공동이용 비대면 자격확인 서비스를 활용하여신청 시 나이, 거주지 즉시 확인□ 제출서류ㅇ 온라인 신청 및 개인정보 제공 동의를 통한 비대면 자격확인으로별도 제출서류 없음ㅇ 단, 외국국적동포의 경우 국내거소신고 사실증명서 첨부※ 원본 서류를 스캔 또는 다운로드 받아 업로드(화면 캡처, 사진 불인정)4 선정 방법□ 선정인원 : 약 30,000명□ 신청 자격·요건 확인ㅇ 연령·거주지 : 행정정보 공동이용 비대면 자격확인 서비스 활용ㅇ 소득 : 가구원수별 건강보험료 본인부담금 확인- 확인기준 : 2024년 2월 건강보험료 본인부담금- 확인방법 : 국민건강보험공단 조회□ 선정기준 : 아래의 우선 순위에 따라 선정ㅇ 1순위 : 생애 최초 수혜자ㅇ 2순위 : 1회 이상 수혜자(2023년 수혜자)※ 자격을 갖춘 신청자 수가 선정인원보다 많을 경우 건강보험료 본인부담액이낮은 순으로 선정5 선정자 발표□ 발 표 일 : 2024. 5. 8.(수) 예정※ 발표일은 변동될 수 있으며, 자세한 내용은 청년몽땅정보통 공지사항 게시판 확인□ 발표방법 : 개별 문자 발송 및 청년몽땅정보통 ‘마이페이지’ 확인6선정 확인 후 필수 이행사항□ 안내에 따라 신한은행 계좌 개설 후 서울청년문화패스 카드 발급□ 서울청년문화패스 홈페이지(youthcultureseoul.kr) 회원가입※ 선정자 발표일로부터 2개월 이상 카드 미발급 또는 미사용 시 선정자격이취소될 수 있음※ 서울청년문화패스 회원 미가입'}\n",
      "\n",
      "---\n",
      "\n",
      "Node 'model':{'answer': '죄송합니다. 제가 이해한 바로는 질문이 불완전한 것 같습니다. 질문의 내용을 더 자세히 알려주시겠어요?'}\n",
      "\n",
      "---\n",
      "\n",
      "Node 'groundedness_check_1':{'groundedness': 'grounded'}\n",
      "\n",
      "---\n",
      "\n",
      "대화를 종료합니다.\n"
     ]
    }
   ],
   "source": [
    "from langchain_core.messages import HumanMessage, AIMessage\n",
    "\n",
    "chat_history = []\n",
    "\n",
    "keep_asking = True\n",
    "\n",
    "while keep_asking:\n",
    "    # 질문 입력 받기\n",
    "    question = input()\n",
    "\n",
    "    if question == 'ㅂ':\n",
    "        print('대화를 종료합니다.')\n",
    "        keep_asking = False\n",
    "        break\n",
    "\n",
    "    inputs = {\n",
    "        \"question\": question,\n",
    "        \"chat_history\": chat_history,\n",
    "        \"context\": RagState[\"context\"]\n",
    "    }\n",
    "\n",
    "    print(f'question: {question}')\n",
    "\n",
    "    keys = []\n",
    "    values = []\n",
    "\n",
    "    answer = \"\"\n",
    "    for output in app.stream(inputs):\n",
    "        for key, value in output.items():\n",
    "            keys.append(key)\n",
    "            values.append(value)\n",
    "            print(f\"Node '{key}':{value}\")\n",
    "            print(\"\\n---\\n\")\n",
    "\n",
    "    answer = values[-2]['answer']  # gc 결과가 grounded가 나오기 직전의 답변을 저장\n",
    "\n",
    "    chat_history += [str(HumanMessage(inputs[\"question\"])), AIMessage(answer)]"
   ]
  },
  {
   "cell_type": "markdown",
   "metadata": {},
   "source": [
    "# Gradio"
   ]
  },
  {
   "cell_type": "code",
   "execution_count": 18,
   "metadata": {},
   "outputs": [],
   "source": [
    "!pip install -qU gradio\n",
    "import gradio as gr"
   ]
  },
  {
   "cell_type": "code",
   "execution_count": 20,
   "metadata": {},
   "outputs": [
    {
     "name": "stdout",
     "output_type": "stream",
     "text": [
      "Running on local URL:  http://127.0.0.1:7860\n",
      "Running on public URL: https://4fce3274bf8dfd58c6.gradio.live\n",
      "\n",
      "This share link expires in 72 hours. For free permanent hosting and GPU upgrades, run `gradio deploy` from Terminal to deploy to Spaces (https://huggingface.co/spaces)\n"
     ]
    },
    {
     "data": {
      "text/html": [
       "<div><iframe src=\"https://4fce3274bf8dfd58c6.gradio.live\" width=\"100%\" height=\"500\" allow=\"autoplay; camera; microphone; clipboard-read; clipboard-write;\" frameborder=\"0\" allowfullscreen></iframe></div>"
      ],
      "text/plain": [
       "<IPython.core.display.HTML object>"
      ]
     },
     "metadata": {},
     "output_type": "display_data"
    },
    {
     "name": "stdout",
     "output_type": "stream",
     "text": [
      "Keyboard interruption in main thread... closing server.\n",
      "Killing tunnel 127.0.0.1:7860 <> https://4fce3274bf8dfd58c6.gradio.live\n"
     ]
    },
    {
     "data": {
      "text/plain": []
     },
     "execution_count": 20,
     "metadata": {},
     "output_type": "execute_result"
    }
   ],
   "source": [
    "''' gradio에서 대화 진행 '''\n",
    "\n",
    "chat_history = []\n",
    "\n",
    "# Gradio에서 처리될 대화 함수\n",
    "def chat(question, context):\n",
    "    global chat_history\n",
    "\n",
    "    inputs = {\n",
    "        \"question\": question,\n",
    "        \"chat_history\": chat_history,\n",
    "        \"context\": context\n",
    "    }\n",
    "\n",
    "    keys = []\n",
    "    values = []\n",
    "\n",
    "    answer = \"\"\n",
    "    for output in app.stream(inputs):\n",
    "        for key, value in output.items():\n",
    "            keys.append(key)\n",
    "            values.append(value)\n",
    "    \n",
    "    answer = values[-2]['answer']  # gc 결과가 grounded가 나오기 직전의 답변을 저장\n",
    "\n",
    "    # 대화 기록 업데이트\n",
    "    chat_history += [str(HumanMessage(inputs[\"question\"])), AIMessage(answer)]\n",
    "\n",
    "    # Gradio에서 UI로 반환할 값\n",
    "    return f\"{answer}\"\n",
    "\n",
    "with gr.Blocks() as demo:\n",
    "    chatbot = gr.ChatInterface(\n",
    "        chat,\n",
    "        examples=[\n",
    "            \"저는 경기도에 거주하는 23살 대학생입니다. 저에게 맞는 정책을 추천해주세요!\"\n",
    "        ],\n",
    "        title=\"청년 정책 추천 챗봇\",\n",
    "        description=\"당신께 꼭 필요한 청년 정책을 추천해드릴게요!\",\n",
    "    )\n",
    "    chatbot.chatbot.height = 500\n",
    "\n",
    "# Gradio 실행\n",
    "demo.launch(debug=True, share=True)"
   ]
  }
 ],
 "metadata": {
  "kernelspec": {
   "display_name": "Python 3",
   "language": "python",
   "name": "python3"
  },
  "language_info": {
   "codemirror_mode": {
    "name": "ipython",
    "version": 3
   },
   "file_extension": ".py",
   "mimetype": "text/x-python",
   "name": "python",
   "nbconvert_exporter": "python",
   "pygments_lexer": "ipython3",
   "version": "3.9.2"
  }
 },
 "nbformat": 4,
 "nbformat_minor": 2
}
